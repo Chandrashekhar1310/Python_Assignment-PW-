{
 "cells": [
  {
   "cell_type": "markdown",
   "id": "0dbc075d-cc92-4686-b536-0a34afc3fd4a",
   "metadata": {
    "slideshow": {
     "slide_type": "notes"
    },
    "tags": []
   },
   "source": [
    "'''Q1. Explain with an example each when to use a for loop and a while loop.\n",
    "A for loop is a control flow statement that repeatedly executes a block of code for a fixed number of times.\n",
    "A while loop, on the other hand, repeatedly executes a block of code as long as a certain condition remains true.\n",
    "Here are some examples of when to use each type of loop:\n",
    "    Suppose you want to print out the first 10 numbers in the Fibonacci sequence.\n",
    "    You can use a for loop because you know exactly how many times you need to execute the loop.'''   "
   ]
  },
  {
   "cell_type": "code",
   "execution_count": 1,
   "id": "2a888b99-7862-4d83-92c6-a4fd57f1a1b5",
   "metadata": {},
   "outputs": [
    {
     "name": "stdout",
     "output_type": "stream",
     "text": [
      "0\n",
      "1\n",
      "1\n",
      "2\n",
      "3\n",
      "5\n",
      "8\n",
      "13\n",
      "21\n",
      "34\n"
     ]
    }
   ],
   "source": [
    "# example of for loop\n",
    "a, b = 0, 1\n",
    "for i in range(10):\n",
    "    print(a)\n",
    "    a, b = b, a + b"
   ]
  },
  {
   "cell_type": "markdown",
   "id": "41cdfd1f-87d0-40ea-97b9-3dd1ebb54c3c",
   "metadata": {},
   "source": [
    "'''Example of when to use a while loop:\n",
    "Suppose you want to prompt a user to enter a positive integer until they actually enter a positive integer. \n",
    "You can use a while loop because you don't know how many times the loop will execute until the user enters a valid input. '''"
   ]
  },
  {
   "cell_type": "code",
   "execution_count": 2,
   "id": "5d15d4bb-2e57-429e-a650-f0cd6773cf38",
   "metadata": {},
   "outputs": [
    {
     "name": "stdin",
     "output_type": "stream",
     "text": [
      "Enter a positive integer:  4\n"
     ]
    },
    {
     "name": "stdout",
     "output_type": "stream",
     "text": [
      "You entered: 4\n"
     ]
    }
   ],
   "source": [
    "num = -1\n",
    "while num <= 0:\n",
    "    num = int(input(\"Enter a positive integer: \"))\n",
    "print(\"You entered:\", num)"
   ]
  },
  {
   "cell_type": "markdown",
   "id": "4fee6ead-3dc2-497d-b6da-b4b42fc02ea5",
   "metadata": {},
   "source": [
    "Q2. Write a python program to print the sum and product of the first 10 natural numbers using for\n",
    "   and while loop."
   ]
  },
  {
   "cell_type": "code",
   "execution_count": 3,
   "id": "72772cec-90ed-420d-9285-5dc5fff08b13",
   "metadata": {},
   "outputs": [
    {
     "name": "stdout",
     "output_type": "stream",
     "text": [
      "The sum of the first 10 natural numbers is: 55\n"
     ]
    }
   ],
   "source": [
    "#for loop\n",
    "result=0\n",
    "for i in range(11):\n",
    "    result = result+i\n",
    "print(\"The sum of the first 10 natural numbers is:\", result)\n",
    "    "
   ]
  },
  {
   "cell_type": "code",
   "execution_count": null,
   "id": "65afe399-c329-4aac-9400-28be597f0d67",
   "metadata": {},
   "outputs": [],
   "source": []
  },
  {
   "cell_type": "code",
   "execution_count": 4,
   "id": "b0751e6f-b123-4c40-b827-7fadbe3f0861",
   "metadata": {},
   "outputs": [
    {
     "name": "stdout",
     "output_type": "stream",
     "text": [
      "The sum of the first 10 natural numbers is: 55\n"
     ]
    }
   ],
   "source": [
    "#while loop\n",
    "num = 1\n",
    "result = 0\n",
    "\n",
    "while num <= 10:\n",
    "    result += num\n",
    "    num += 1\n",
    "\n",
    "print(\"The sum of the first 10 natural numbers is:\", result)\n"
   ]
  },
  {
   "cell_type": "markdown",
   "id": "7175278f-473e-4268-a026-7a1d4dd04322",
   "metadata": {},
   "source": [
    "Q3. Create a python program to compute the electricity bill for a household.The per-unit charges in rupees are as follows: For the first 100 units, the user will be charged Rs. 4.5 per unit, for the next 100 units, the user will be charged Rs. 6 per unit, and for the next 100 units, the user will be charged Rs. 10 per unit, After 300 units and above the user will be charged Rs. 20 per unit.You are required to take the units of electricity consumed in a month from the user as input."
   ]
  },
  {
   "cell_type": "code",
   "execution_count": 5,
   "id": "41a8b12b-52be-43b7-9fe0-f187673ffa8f",
   "metadata": {},
   "outputs": [
    {
     "name": "stdin",
     "output_type": "stream",
     "text": [
      "Enter the units:  200\n"
     ]
    },
    {
     "name": "stdout",
     "output_type": "stream",
     "text": [
      "Total electricity bill: Rs. 1050.0\n"
     ]
    }
   ],
   "source": [
    "units = int(input(\"Enter the units: \"))\n",
    "total_bill = 0\n",
    "\n",
    "if units <= 100:\n",
    "    total_bill = units * 4.5\n",
    "elif units <= 200:\n",
    "    total_bill = (100 * 4.5) + ((units - 100) * 6)\n",
    "elif units <= 300:\n",
    "    total_bill = (100 * 4.5) + (100 * 6) + ((units - 200) * 10)\n",
    "else:\n",
    "    total_bill = (100 * 4.5) + (100 * 6) + (100 * 10) + ((units - 300) * 20)\n",
    "\n",
    "print(\"Total electricity bill: Rs.\", total_bill)\n"
   ]
  },
  {
   "cell_type": "markdown",
   "id": "63e67872-de22-46cf-85ae-b1854a2e4441",
   "metadata": {},
   "source": [
    "Q4. Create a list of numbers from 1 to 100. Use for loop and while loop to calculate the cube of each\n",
    "number and if the cube of that number is divisible by 4 or 5 then append that number in a list and print\n",
    "that list."
   ]
  },
  {
   "cell_type": "code",
   "execution_count": 6,
   "id": "4d1994e7-8d38-484a-965c-cb3cbdef9c99",
   "metadata": {},
   "outputs": [
    {
     "name": "stdout",
     "output_type": "stream",
     "text": [
      "[8, 64, 125, 216, 512, 1000, 1728, 2744, 3375, 4096, 5832, 8000, 10648, 13824, 15625, 17576, 21952, 27000, 32768, 39304, 42875, 46656, 54872, 64000, 74088, 85184, 91125, 97336, 110592, 125000, 140608, 157464, 166375, 175616, 195112, 216000, 238328, 262144, 274625, 287496, 314432, 343000, 373248, 405224, 421875, 438976, 474552, 512000, 551368, 592704, 614125, 636056, 681472, 729000, 778688, 830584, 857375, 884736, 941192, 1000000]\n"
     ]
    }
   ],
   "source": [
    "#for loop\n",
    "cubes_list = []\n",
    "for i in range(1, 101):\n",
    "    cube = i ** 3\n",
    "    if cube % 4 == 0 or cube % 5 == 0:\n",
    "        cubes_list.append(cube)\n",
    "\n",
    "print(cubes_list)\n",
    "\n",
    "    "
   ]
  },
  {
   "cell_type": "code",
   "execution_count": 7,
   "id": "2fdd08f7-090c-4b14-a52d-d4d3644c0626",
   "metadata": {},
   "outputs": [
    {
     "name": "stdout",
     "output_type": "stream",
     "text": [
      "[8, 64, 125, 216, 512, 1000, 1728, 2744, 3375, 4096, 5832, 8000, 10648, 13824, 15625, 17576, 21952, 27000, 32768, 39304, 42875, 46656, 54872, 64000, 74088, 85184, 91125, 97336, 110592, 125000, 140608, 157464, 166375, 175616, 195112, 216000, 238328, 262144, 274625, 287496, 314432, 343000, 373248, 405224, 421875, 438976, 474552, 512000, 551368, 592704, 614125, 636056, 681472, 729000, 778688, 830584, 857375, 884736, 941192, 1000000]\n"
     ]
    }
   ],
   "source": [
    "# while loop\n",
    "cubes_list = []\n",
    "i=1\n",
    "while i<=100:\n",
    "    cube = i**3\n",
    "    if cube % 4 == 0 or cube % 5 == 0:\n",
    "        cubes_list.append(cube)\n",
    "    i+=1\n",
    "print(cubes_list)"
   ]
  },
  {
   "cell_type": "markdown",
   "id": "e317c852-f726-4bef-8c8a-48d8b05e1c2f",
   "metadata": {},
   "source": [
    "Q5. Write a program to filter count vowels in the below-given string.\n",
    "string = \"I want to become a data scientist\""
   ]
  },
  {
   "cell_type": "code",
   "execution_count": 8,
   "id": "10b077ff-98d3-4016-a0d6-788e890e7ff2",
   "metadata": {},
   "outputs": [
    {
     "data": {
      "text/plain": [
       "12"
      ]
     },
     "execution_count": 8,
     "metadata": {},
     "output_type": "execute_result"
    }
   ],
   "source": [
    "vowel=['a','e','i','o','u']\n",
    "string = \"I want to become a data scientist\"\n",
    "string=string.lower()\n",
    "string\n",
    "count=0\n",
    "for i in string:\n",
    "    if i in vowel:\n",
    "        count+=1\n",
    "count\n",
    "        \n"
   ]
  },
  {
   "cell_type": "code",
   "execution_count": null,
   "id": "0b641f3c-6d29-4ba9-b093-7867fc3d7c72",
   "metadata": {},
   "outputs": [],
   "source": []
  }
 ],
 "metadata": {
  "kernelspec": {
   "display_name": "Python 3 (ipykernel)",
   "language": "python",
   "name": "python3"
  },
  "language_info": {
   "codemirror_mode": {
    "name": "ipython",
    "version": 3
   },
   "file_extension": ".py",
   "mimetype": "text/x-python",
   "name": "python",
   "nbconvert_exporter": "python",
   "pygments_lexer": "ipython3",
   "version": "3.10.8"
  }
 },
 "nbformat": 4,
 "nbformat_minor": 5
}
